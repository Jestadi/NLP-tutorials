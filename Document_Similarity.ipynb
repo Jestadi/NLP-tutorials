{
 "cells": [
  {
   "cell_type": "markdown",
   "id": "85745496",
   "metadata": {},
   "source": [
    "### Checking similarity between first document and all other documents using TF-IDF & Cosine Similarity\n",
    "\n",
    "\n",
    "###### Task : To check if the the author has a distinctive, original writing style. This is achieved using similarity measures across articles written by them\n",
    "\n",
    "1. Utilizes cosine_similarity, TF-IDF, Jaccard Similarity, and Euclidean distance\n"
   ]
  },
  {
   "cell_type": "code",
   "execution_count": 2,
   "id": "1cbc9d1f",
   "metadata": {},
   "outputs": [],
   "source": [
    "import nltk\n",
    "from nltk.corpus import stopwords\n",
    "from sklearn.metrics.pairwise import cosine_similarity \n",
    "from sklearn.feature_extraction.text import TfidfVectorizer\n",
    "import re\n"
   ]
  },
  {
   "cell_type": "code",
   "execution_count": 9,
   "id": "60fdc79b",
   "metadata": {},
   "outputs": [
    {
     "name": "stderr",
     "output_type": "stream",
     "text": [
      "[nltk_data] Downloading package stopwords to\n",
      "[nltk_data]     /Users/rahuljestadi/nltk_data...\n",
      "[nltk_data]   Unzipping corpora/stopwords.zip.\n"
     ]
    },
    {
     "data": {
      "text/plain": [
       "True"
      ]
     },
     "execution_count": 9,
     "metadata": {},
     "output_type": "execute_result"
    }
   ],
   "source": [
    "nltk.download('stopwords') "
   ]
  },
  {
   "cell_type": "code",
   "execution_count": 3,
   "id": "96cd6cab",
   "metadata": {},
   "outputs": [],
   "source": [
    "#To keep the results and comparison clean\n",
    "import pandas as pd\n",
    "import numpy as np"
   ]
  },
  {
   "cell_type": "code",
   "execution_count": 5,
   "id": "00b4c67d",
   "metadata": {},
   "outputs": [],
   "source": [
    "#Data corpus of Lakshmi Sankaran Articles\n",
    "corpus_lakshmi = [\"If there is a phrase I would prefer to retire from online bios, personal or professional, it is, “I love travel.” Or some approximation of that sentiment. To clarify, I am not against travellers or those who proudly flaunt their passion for travel. On the contrary, editing a travel magazine has now made me oddly protective of travellers and their ilk. My submission is that “love to travel,” suggested so casually, just doesn’t feel adequate to the depth of emotion it sparks in true devotees.In February, the month of love as endowed by our great gifting industrial complex, we are wrestling with what “love for travel” means in tangible, life-affecting terms. The early throes of discovering travel might not be too dissimilar to the beginnings of a feverish affair. A fleeting scene, sound or feeling that at first arouses, then enchants and eventually, lures us into a hypnotic state, evoking woolly-eyed reveries about what could be.This world, however, is not the most conducive for long-term passion, the kind that demands unflinching sustenance in the midst of distractions from a thousand notifications. Passion has many rivals to contend with. And in flippantly announcing travel as our first love, we are not fully considering the influence our other paramours (work, relationships or money) exert on us.Travellers for life are compulsive. They have to be; there is no other existence. Climate change, marriages, deaths, protests and politics might have to take a backseat. I am reminded of a wanderlust-happy couple that discovered chinks in their relationship during a road trip through Russia. The woman, upset and distraught, offered a solution: cut the trip short to come back home and rekindle their chemistry. The man, however, wouldn’t give up Siberia, despite a chance at a do-over. Please don’t go getting any ideas about breaking hearts but for some travellers, marital bliss too has its limits.\",\"The world’s greatest cities are brutal, unsentimental places, precisely the reason why so many of us fall so irrevocably under their spell. In its worst hour, this bond can curdle into bitter complaints of unrequited affection and everyday torment. “The subway doesn’t work, trash is overflowing and it’s too crowded; this is over.” Let me assure you that right now someone somewhere is uttering these words about your dream metropolis, New York, Rome, Rio De Janeiro. Like an unrepentant cad, the city laughs in their face, “Go on… live without me.” Wresting long-term connections comes with the occasional pang of nostalgic regret. Those who can’t escape their love of cities are destined to keep replaying that first flush of romance, that moment when a city went from a destination to home.A traveller’s sense of a city is always ephemeral. Not that this discredits his or her insights but to genuinely get under the skin of a modern metropolis, we look towards its people, leaning against its sidewalks, reading in café nooks or flirting in nightclubs. One of the best descriptions of city love I’ve read is in a wonderful book on London with a rather circuitous moniker: Londoners: The Days And Nights Of London Now—As Told By Those Who Love It, Hate It, Live It, Left It, And Long For It. In it writer Craig Taylor, who lived in the British capital for years, recalls relocating to Toronto and fielding that pesky question, “How do you feel about London?” He had a complicated answer, “It wasn’t a two-way relationship. It was no use thinking this place loses any sleep over me.”That’s the messy conundrum of a great city, as experienced by its besotted paramours, some of whom can’t kick the habit even if they tried. Travellers attempting to understand an urban jungle are better off trying to study its undercurrents. In September’s ode to five global cities, NGTI attempts to get a measure of their pulse. A writer dives into Belfast’s turbulent past to fully grasp its present-day vibrancy, another digs into the back alleys of Kuala Lumpur’s inimitable heritage food joints. We profile New York’s Hudson Yards, a gaudy spectacle that has divided New Yorkers, and chronicle the rise of Bauhaus in Tel Aviv. Finally we unpack Finland’s oldest city Turku.A city is fertile land for dramatic histories, new narratives and moving stories. Travellers, never immune to these irresistible tales, are bound to pass through its golden gates, over and over.\",\"Part of the allure of a remote place is that the closer we get to it, the more we risk everything that made it precious. For years, Mount Everest inspired a sense of forbidden majesty, which was surmounted only by a few courageous adventurers. It helped that they were entertaining and we were content to immerse ourselves in the stories they wove from these monumental expeditions.In 2019, life-changing experiences are more easily found. This is probably why, when a photo of tourists lined up outside Everest’s summit, as though it were some check-in counter at an airport dispensing visas, was widely debated three months ago, the overwhelming emotion was deflated acceptance. No one in this day and age will be denied their Edmund Hillary moment.In February, the New York Times ran a panicked headline about another solitary paradise, which had long been removed from sustained tourist interference—the Galápagos. “Going to the Galápagos Is Easier and Cheaper Than Ever. That Might Not Be a Good Thing,” it warned. According to the article, “in 2017, 2,41,800 people visited the islands, up from 1,73,419 a decade earlier.”I am not highlighting these concerns as a spoilsport to anyone’s dreams. Travellers have earned their right to be wherever they choose to be. Even more so, seeking out the elusive is neither new nor groundbreaking; people were born of this earthly garden and returning to its comforting delights is the most primal of escapes. But the irony of how long we have this profusion of wilderness has not been lost, especially while we look towards the outdoors for constant nourishment and inspiration.Despite the arguments in favour or against these developments, NGTI’s August edition remains an ode to bona fide outdoor enthusiasts, a sincere testament to how faraway mountains, hidden islands, sweeping canyons continue to wield a magnetic pull over us. We have packed this issue with epic journeys: a 10-day road trip from Iceland’s deep grey volcanic outback, a tropical joyride in Fiji, a playful encounter with wildlife in New Zealand and a first-time skier’s tentative venture onto the slopes of Tahoe.While enjoying these wonderful reads, try to think of that sagacious advice, often doled out when restlessness sneaks its dreary head—“Why not go outside? Get some fresh air?” The outdoors are great for us, this much has been proven. The question now is, can we be great for the outdoors too?\",\"Our year-end edition toasts ultra-indulgence while travelling, featuring itineraries that many will know to be out of their financial reach. In producing these narratives, I was struck by a contrast.Travel today is dominated by minimalists or downsizers, those who preach the gospel of “hard-knock wanderlust.” And they almost always reap universal admiration. They are characters to aspire to, examples of made-for-Instagram sayings such as, “All you need is a backpack” or “#MotorcycleDiaries.” Unable to join these gallivanting philosophers, others marvel at their brave rebellion—oh, to give up the predictability of overpriced tourist traps someday, they sigh.In this context, luxury travel evokes a Molotov cocktail of feelings. A billionaire on a sailboat hosting Jazz Age-style revelries in the French Riviera is inevitably setting himself up for mockery. The heiress, who flits off to shopping holidays in Milan and Dubai, might as well buy an extra pair of sunglasses for the shade directed her way. Extravagance passes muster if it panders to affordability. In the last few years, it has become intertwined with entitlement, a radioactive pejorative today.Upper-class travel doesn’t deserve this slight. As more astute aesthetes have reminded us in the past, refined tastes don’t have to be gauche. Living like royalty might have its privileges but it also spurs a temperament for beauty, grace and sensuality, which is why travellers will always fork out top penny for a night in Rajasthan’s many palace stays.Wealth facilitates the kind of understated exclusivity seen in the English countryside’s several castles or manors, once a venue for elegant ballroom dances. Luxury could also simply mean time well spent—or doing nothing—floating atop a sundeck in an unending stretch of the ocean.Professional travel writers are lucky to be granted access to these private paradises and, in December’s magazine, a handful of them have returned with colourful dispatches. One writer enjoys a happy recreational bubble in the Maldives, another is privy to up close views of big game in Botswana. There is also a roundup of New York’s elite food and drinking haunts, and coverage of the maiden cruise between Mumbai and Goa. All these retreats promise a hedonistic binge: grand feasts of fine wine and champagne, and views hidden from the typical trails.Some of them will test your purse-strings but think of Holly Golightly. She couldn’t lay claim to real Tiffany’s jewels but that never stopped her from getting her heart’s fill, standing outside the window.\",\"I like a bit of pow-wow in any place. Let me rephrase before you think I am eternally hankering for a fight. What I mean is I would choose crooked streets over straight highways, sweaty mayhem over pristine elegance. This is why no matter where I go in this world, coming home to India, and especially Bombay, is never dull. I blame growing up in the city for my pugilistic predilections. One of the many descriptors that Mark Twain used in relation to Bombay was “pow-wow.” The place seemed to confound him: “Bewitching”, “Bewildering”, “Enchanting”, “Arabian Nights come again?”—the man was repulsed and riveted at the same time. It was a place befitting the number of exclamations he used.At 13, I was yet to be permitted the pleasures of travelling unchaperoned outside Bombay but within its confines, I had free rein to indulge my inner flâneur. I became the weekend loafer, slacking through parts of the city I really had no business being in. My itinerary hardly ever changed: Take the BEST bus to Chowpatty; after filling up on chaat, sample some more at the khau gully in Churchgate; sometimes, pretend to shop for music I could not afford at Kala Ghoda’s Rhythm House, where the desperately-trying-to-be-hip hung out in the 1990s. The final stretch was always my favourite: trudging along to my personal Shangri-La, Victoria Terminus.At VT, I parsed the sea of faces. I drummed up mind games to fill time like “Who’s new and who isn’t?” Spotting either was fairly simple. The former bunch bears dazed glances and open mouths. A person gyrating through the mob with minimum physical contact had been practising for the Local Train Olympics for a few years at least. When it was my turn to head back to the suburbs, I warmed up, adopted a stance that would make Usain Bolt proud and dashed off like the Flash into an incoming train. Like millions of others, Bombay taught me independent travel, in the crudest sense of the term. And it prepared me for the swirling madness that lies in the rest of India.In August, we are showcasing and extolling the allure of domestic journeys. Hampi, celebrated for its ruins, reveals something unexpected after every visit. In Hyderabad, we feature Sufi shrines, some of which abound in nooks you wouldn’t notice. Banaras’s cosy classical music cafés leave a lasting impression on a newcomer’s heart, and in West Bengal, a heritage renaissance seems to be afoot in Serampore. It is incumbent that travellers make forays far from where they live but, every so often, it doesn’t hurt to stumble upon surprises in our own backyard.\"]"
   ]
  },
  {
   "cell_type": "code",
   "execution_count": 6,
   "id": "a736c862",
   "metadata": {},
   "outputs": [],
   "source": [
    "documents = pd.DataFrame(corpus_lakshmi,columns = ['corpus_lakshmi'])"
   ]
  },
  {
   "cell_type": "code",
   "execution_count": 7,
   "id": "f35051a3",
   "metadata": {},
   "outputs": [],
   "source": [
    "#Removing stop words\n",
    "stop_remove = stopwords.words('english')"
   ]
  },
  {
   "cell_type": "code",
   "execution_count": 8,
   "id": "c643cb2c",
   "metadata": {},
   "outputs": [],
   "source": [
    "documents['documents_cleaned']=documents.corpus_lakshmi.apply(lambda x: \" \".join(re.sub(r'[^a-zA-Z]',' ',w).lower() for w in x.split() if re.sub(r'[^a-zA-Z]',' ',w).lower() not in stop_remove))"
   ]
  },
  {
   "cell_type": "code",
   "execution_count": 9,
   "id": "1d0b9ac8",
   "metadata": {},
   "outputs": [
    {
     "name": "stdout",
     "output_type": "stream",
     "text": [
      "0    phrase would prefer retire online bios  person...\n",
      "1    world s greatest cities brutal  unsentimental ...\n",
      "2    part allure remote place closer get it  risk e...\n",
      "3    year end edition toasts ultra indulgence trave...\n",
      "4    like bit pow wow place  let rephrase think ete...\n",
      "Name: documents_cleaned, dtype: object\n"
     ]
    }
   ],
   "source": [
    "print(documents['documents_cleaned'])"
   ]
  },
  {
   "cell_type": "code",
   "execution_count": 10,
   "id": "62ead48c",
   "metadata": {},
   "outputs": [],
   "source": [
    "# Initialize an instance of tf-idf Vectorizer\n",
    "tfidfvectoriser=TfidfVectorizer()\n",
    "# Generate the tf-idf vectors for the corpus\n",
    "tfidfvectoriser.fit(documents.documents_cleaned)\n",
    "tfidf_vectors=tfidfvectoriser.transform(documents.documents_cleaned)"
   ]
  },
  {
   "cell_type": "code",
   "execution_count": 11,
   "id": "46102d38",
   "metadata": {},
   "outputs": [],
   "source": [
    "# compute and print the cosine similarity matrix\n",
    "pairwise_similarities=np.dot(tfidf_vectors,tfidf_vectors.T).toarray()"
   ]
  },
  {
   "cell_type": "code",
   "execution_count": 12,
   "id": "b03fbaed",
   "metadata": {},
   "outputs": [],
   "source": [
    "def most_similar(doc_id,similarity_matrix,matrix):\n",
    "    print (f'Document: {documents.iloc[doc_id][\"corpus_lakshmi\"]}')\n",
    "    print ('\\n')\n",
    "    print ('Similar Documents:')\n",
    "    if matrix=='Cosine Similarity':\n",
    "        similar = np.argsort(similarity_matrix[doc_id])[::-1]\n",
    "    for ix in similar:\n",
    "        if ix==doc_id:\n",
    "            continue\n",
    "        print('\\n')\n",
    "        print (f'Document: {documents.iloc[ix][\"corpus_lakshmi\"]}')\n",
    "        print (f'{matrix} : {similarity_matrix[doc_id][ix]}')"
   ]
  },
  {
   "cell_type": "code",
   "execution_count": 13,
   "id": "8cff119e",
   "metadata": {},
   "outputs": [
    {
     "name": "stdout",
     "output_type": "stream",
     "text": [
      "Document: If there is a phrase I would prefer to retire from online bios, personal or professional, it is, “I love travel.” Or some approximation of that sentiment. To clarify, I am not against travellers or those who proudly flaunt their passion for travel. On the contrary, editing a travel magazine has now made me oddly protective of travellers and their ilk. My submission is that “love to travel,” suggested so casually, just doesn’t feel adequate to the depth of emotion it sparks in true devotees.In February, the month of love as endowed by our great gifting industrial complex, we are wrestling with what “love for travel” means in tangible, life-affecting terms. The early throes of discovering travel might not be too dissimilar to the beginnings of a feverish affair. A fleeting scene, sound or feeling that at first arouses, then enchants and eventually, lures us into a hypnotic state, evoking woolly-eyed reveries about what could be.This world, however, is not the most conducive for long-term passion, the kind that demands unflinching sustenance in the midst of distractions from a thousand notifications. Passion has many rivals to contend with. And in flippantly announcing travel as our first love, we are not fully considering the influence our other paramours (work, relationships or money) exert on us.Travellers for life are compulsive. They have to be; there is no other existence. Climate change, marriages, deaths, protests and politics might have to take a backseat. I am reminded of a wanderlust-happy couple that discovered chinks in their relationship during a road trip through Russia. The woman, upset and distraught, offered a solution: cut the trip short to come back home and rekindle their chemistry. The man, however, wouldn’t give up Siberia, despite a chance at a do-over. Please don’t go getting any ideas about breaking hearts but for some travellers, marital bliss too has its limits.\n",
      "\n",
      "\n",
      "Similar Documents:\n",
      "\n",
      "\n",
      "Document: Our year-end edition toasts ultra-indulgence while travelling, featuring itineraries that many will know to be out of their financial reach. In producing these narratives, I was struck by a contrast.Travel today is dominated by minimalists or downsizers, those who preach the gospel of “hard-knock wanderlust.” And they almost always reap universal admiration. They are characters to aspire to, examples of made-for-Instagram sayings such as, “All you need is a backpack” or “#MotorcycleDiaries.” Unable to join these gallivanting philosophers, others marvel at their brave rebellion—oh, to give up the predictability of overpriced tourist traps someday, they sigh.In this context, luxury travel evokes a Molotov cocktail of feelings. A billionaire on a sailboat hosting Jazz Age-style revelries in the French Riviera is inevitably setting himself up for mockery. The heiress, who flits off to shopping holidays in Milan and Dubai, might as well buy an extra pair of sunglasses for the shade directed her way. Extravagance passes muster if it panders to affordability. In the last few years, it has become intertwined with entitlement, a radioactive pejorative today.Upper-class travel doesn’t deserve this slight. As more astute aesthetes have reminded us in the past, refined tastes don’t have to be gauche. Living like royalty might have its privileges but it also spurs a temperament for beauty, grace and sensuality, which is why travellers will always fork out top penny for a night in Rajasthan’s many palace stays.Wealth facilitates the kind of understated exclusivity seen in the English countryside’s several castles or manors, once a venue for elegant ballroom dances. Luxury could also simply mean time well spent—or doing nothing—floating atop a sundeck in an unending stretch of the ocean.Professional travel writers are lucky to be granted access to these private paradises and, in December’s magazine, a handful of them have returned with colourful dispatches. One writer enjoys a happy recreational bubble in the Maldives, another is privy to up close views of big game in Botswana. There is also a roundup of New York’s elite food and drinking haunts, and coverage of the maiden cruise between Mumbai and Goa. All these retreats promise a hedonistic binge: grand feasts of fine wine and champagne, and views hidden from the typical trails.Some of them will test your purse-strings but think of Holly Golightly. She couldn’t lay claim to real Tiffany’s jewels but that never stopped her from getting her heart’s fill, standing outside the window.\n",
      "Cosine Similarity : 0.1089409056515749\n",
      "\n",
      "\n",
      "Document: The world’s greatest cities are brutal, unsentimental places, precisely the reason why so many of us fall so irrevocably under their spell. In its worst hour, this bond can curdle into bitter complaints of unrequited affection and everyday torment. “The subway doesn’t work, trash is overflowing and it’s too crowded; this is over.” Let me assure you that right now someone somewhere is uttering these words about your dream metropolis, New York, Rome, Rio De Janeiro. Like an unrepentant cad, the city laughs in their face, “Go on… live without me.” Wresting long-term connections comes with the occasional pang of nostalgic regret. Those who can’t escape their love of cities are destined to keep replaying that first flush of romance, that moment when a city went from a destination to home.A traveller’s sense of a city is always ephemeral. Not that this discredits his or her insights but to genuinely get under the skin of a modern metropolis, we look towards its people, leaning against its sidewalks, reading in café nooks or flirting in nightclubs. One of the best descriptions of city love I’ve read is in a wonderful book on London with a rather circuitous moniker: Londoners: The Days And Nights Of London Now—As Told By Those Who Love It, Hate It, Live It, Left It, And Long For It. In it writer Craig Taylor, who lived in the British capital for years, recalls relocating to Toronto and fielding that pesky question, “How do you feel about London?” He had a complicated answer, “It wasn’t a two-way relationship. It was no use thinking this place loses any sleep over me.”That’s the messy conundrum of a great city, as experienced by its besotted paramours, some of whom can’t kick the habit even if they tried. Travellers attempting to understand an urban jungle are better off trying to study its undercurrents. In September’s ode to five global cities, NGTI attempts to get a measure of their pulse. A writer dives into Belfast’s turbulent past to fully grasp its present-day vibrancy, another digs into the back alleys of Kuala Lumpur’s inimitable heritage food joints. We profile New York’s Hudson Yards, a gaudy spectacle that has divided New Yorkers, and chronicle the rise of Bauhaus in Tel Aviv. Finally we unpack Finland’s oldest city Turku.A city is fertile land for dramatic histories, new narratives and moving stories. Travellers, never immune to these irresistible tales, are bound to pass through its golden gates, over and over.\n",
      "Cosine Similarity : 0.08938388538341305\n",
      "\n",
      "\n",
      "Document: Part of the allure of a remote place is that the closer we get to it, the more we risk everything that made it precious. For years, Mount Everest inspired a sense of forbidden majesty, which was surmounted only by a few courageous adventurers. It helped that they were entertaining and we were content to immerse ourselves in the stories they wove from these monumental expeditions.In 2019, life-changing experiences are more easily found. This is probably why, when a photo of tourists lined up outside Everest’s summit, as though it were some check-in counter at an airport dispensing visas, was widely debated three months ago, the overwhelming emotion was deflated acceptance. No one in this day and age will be denied their Edmund Hillary moment.In February, the New York Times ran a panicked headline about another solitary paradise, which had long been removed from sustained tourist interference—the Galápagos. “Going to the Galápagos Is Easier and Cheaper Than Ever. That Might Not Be a Good Thing,” it warned. According to the article, “in 2017, 2,41,800 people visited the islands, up from 1,73,419 a decade earlier.”I am not highlighting these concerns as a spoilsport to anyone’s dreams. Travellers have earned their right to be wherever they choose to be. Even more so, seeking out the elusive is neither new nor groundbreaking; people were born of this earthly garden and returning to its comforting delights is the most primal of escapes. But the irony of how long we have this profusion of wilderness has not been lost, especially while we look towards the outdoors for constant nourishment and inspiration.Despite the arguments in favour or against these developments, NGTI’s August edition remains an ode to bona fide outdoor enthusiasts, a sincere testament to how faraway mountains, hidden islands, sweeping canyons continue to wield a magnetic pull over us. We have packed this issue with epic journeys: a 10-day road trip from Iceland’s deep grey volcanic outback, a tropical joyride in Fiji, a playful encounter with wildlife in New Zealand and a first-time skier’s tentative venture onto the slopes of Tahoe.While enjoying these wonderful reads, try to think of that sagacious advice, often doled out when restlessness sneaks its dreary head—“Why not go outside? Get some fresh air?” The outdoors are great for us, this much has been proven. The question now is, can we be great for the outdoors too?\n",
      "Cosine Similarity : 0.06990941761410392\n",
      "\n",
      "\n",
      "Document: I like a bit of pow-wow in any place. Let me rephrase before you think I am eternally hankering for a fight. What I mean is I would choose crooked streets over straight highways, sweaty mayhem over pristine elegance. This is why no matter where I go in this world, coming home to India, and especially Bombay, is never dull. I blame growing up in the city for my pugilistic predilections. One of the many descriptors that Mark Twain used in relation to Bombay was “pow-wow.” The place seemed to confound him: “Bewitching”, “Bewildering”, “Enchanting”, “Arabian Nights come again?”—the man was repulsed and riveted at the same time. It was a place befitting the number of exclamations he used.At 13, I was yet to be permitted the pleasures of travelling unchaperoned outside Bombay but within its confines, I had free rein to indulge my inner flâneur. I became the weekend loafer, slacking through parts of the city I really had no business being in. My itinerary hardly ever changed: Take the BEST bus to Chowpatty; after filling up on chaat, sample some more at the khau gully in Churchgate; sometimes, pretend to shop for music I could not afford at Kala Ghoda’s Rhythm House, where the desperately-trying-to-be-hip hung out in the 1990s. The final stretch was always my favourite: trudging along to my personal Shangri-La, Victoria Terminus.At VT, I parsed the sea of faces. I drummed up mind games to fill time like “Who’s new and who isn’t?” Spotting either was fairly simple. The former bunch bears dazed glances and open mouths. A person gyrating through the mob with minimum physical contact had been practising for the Local Train Olympics for a few years at least. When it was my turn to head back to the suburbs, I warmed up, adopted a stance that would make Usain Bolt proud and dashed off like the Flash into an incoming train. Like millions of others, Bombay taught me independent travel, in the crudest sense of the term. And it prepared me for the swirling madness that lies in the rest of India.In August, we are showcasing and extolling the allure of domestic journeys. Hampi, celebrated for its ruins, reveals something unexpected after every visit. In Hyderabad, we feature Sufi shrines, some of which abound in nooks you wouldn’t notice. Banaras’s cosy classical music cafés leave a lasting impression on a newcomer’s heart, and in West Bengal, a heritage renaissance seems to be afoot in Serampore. It is incumbent that travellers make forays far from where they live but, every so often, it doesn’t hurt to stumble upon surprises in our own backyard.\n",
      "Cosine Similarity : 0.058032376637204036\n"
     ]
    }
   ],
   "source": [
    "most_similar(0,pairwise_similarities,'Cosine Similarity')"
   ]
  },
  {
   "cell_type": "code",
   "execution_count": 14,
   "id": "da6c4d0c",
   "metadata": {},
   "outputs": [
    {
     "name": "stdout",
     "output_type": "stream",
     "text": [
      "[[0.         0.         0.         0.         0.07188413 0.\n",
      "  0.         0.         0.         0.         0.07188413 0.07188413\n",
      "  0.         0.         0.         0.         0.         0.\n",
      "  0.         0.         0.         0.         0.         0.\n",
      "  0.         0.         0.         0.         0.         0.07188413\n",
      "  0.         0.         0.         0.07188413 0.         0.\n",
      "  0.07188413 0.         0.         0.         0.         0.\n",
      "  0.         0.         0.         0.         0.         0.\n",
      "  0.04814164 0.         0.07188413 0.         0.         0.\n",
      "  0.         0.09628328 0.         0.         0.         0.\n",
      "  0.         0.07188413 0.         0.         0.         0.\n",
      "  0.         0.         0.         0.         0.         0.\n",
      "  0.07188413 0.         0.         0.         0.07188413 0.\n",
      "  0.         0.         0.         0.         0.         0.\n",
      "  0.         0.         0.07188413 0.         0.         0.\n",
      "  0.         0.         0.         0.         0.         0.\n",
      "  0.         0.         0.         0.         0.         0.07188413\n",
      "  0.         0.         0.         0.07188413 0.07188413 0.\n",
      "  0.         0.         0.         0.         0.07188413 0.07188413\n",
      "  0.         0.         0.         0.         0.         0.\n",
      "  0.         0.         0.07188413 0.         0.         0.07188413\n",
      "  0.         0.         0.         0.         0.05799566 0.\n",
      "  0.         0.         0.         0.07188413 0.         0.07188413\n",
      "  0.         0.07188413 0.         0.         0.         0.07188413\n",
      "  0.         0.         0.07188413 0.         0.         0.\n",
      "  0.07188413 0.         0.         0.         0.04814164 0.\n",
      "  0.         0.         0.07188413 0.         0.         0.\n",
      "  0.         0.         0.         0.         0.         0.07188413\n",
      "  0.         0.         0.         0.         0.         0.\n",
      "  0.07188413 0.         0.         0.         0.         0.\n",
      "  0.         0.07188413 0.         0.07188413 0.         0.\n",
      "  0.         0.         0.05799566 0.         0.         0.\n",
      "  0.07188413 0.         0.         0.07188413 0.07188413 0.\n",
      "  0.         0.         0.07188413 0.07188413 0.07188413 0.\n",
      "  0.         0.07188413 0.04049826 0.         0.         0.\n",
      "  0.05799566 0.         0.         0.         0.         0.\n",
      "  0.         0.         0.         0.         0.         0.07188413\n",
      "  0.         0.         0.         0.         0.07188413 0.\n",
      "  0.         0.         0.         0.         0.         0.\n",
      "  0.05799566 0.         0.07188413 0.         0.         0.07188413\n",
      "  0.         0.         0.         0.         0.         0.\n",
      "  0.         0.         0.         0.         0.         0.\n",
      "  0.         0.07188413 0.         0.         0.         0.\n",
      "  0.         0.         0.07188413 0.         0.         0.\n",
      "  0.07188413 0.07188413 0.         0.         0.         0.\n",
      "  0.         0.         0.07188413 0.         0.         0.\n",
      "  0.         0.         0.         0.         0.         0.\n",
      "  0.         0.         0.         0.05799566 0.05799566 0.07188413\n",
      "  0.         0.         0.07188413 0.         0.         0.\n",
      "  0.         0.         0.         0.         0.         0.\n",
      "  0.         0.         0.09628328 0.         0.         0.\n",
      "  0.07188413 0.07188413 0.07188413 0.         0.         0.\n",
      "  0.         0.         0.         0.         0.         0.\n",
      "  0.         0.         0.         0.         0.         0.05799566\n",
      "  0.         0.         0.         0.         0.         0.\n",
      "  0.         0.         0.         0.         0.05799566 0.\n",
      "  0.07188413 0.05799566 0.         0.         0.04049826 0.\n",
      "  0.         0.         0.         0.         0.         0.\n",
      "  0.         0.         0.         0.04814164 0.         0.\n",
      "  0.         0.         0.         0.         0.         0.\n",
      "  0.         0.         0.05799566 0.         0.         0.\n",
      "  0.         0.         0.         0.         0.07188413 0.\n",
      "  0.         0.         0.         0.         0.         0.\n",
      "  0.         0.         0.         0.         0.         0.\n",
      "  0.04814164 0.         0.         0.         0.         0.14376826\n",
      "  0.         0.         0.         0.         0.07188413 0.\n",
      "  0.07188413 0.07188413 0.         0.         0.         0.04049826\n",
      "  0.         0.         0.         0.         0.         0.\n",
      "  0.07188413 0.         0.07188413 0.         0.         0.\n",
      "  0.         0.         0.         0.         0.         0.\n",
      "  0.         0.         0.05799566 0.         0.         0.\n",
      "  0.         0.         0.         0.         0.         0.\n",
      "  0.         0.         0.         0.         0.         0.\n",
      "  0.         0.         0.         0.05799566 0.         0.\n",
      "  0.         0.         0.         0.         0.         0.\n",
      "  0.         0.         0.         0.         0.         0.\n",
      "  0.         0.11599133 0.         0.07188413 0.         0.\n",
      "  0.         0.         0.         0.         0.         0.\n",
      "  0.04814164 0.         0.         0.         0.28997832 0.\n",
      "  0.         0.07188413 0.         0.04814164 0.         0.05799566\n",
      "  0.         0.         0.         0.         0.         0.05799566\n",
      "  0.         0.04049826 0.07188413 0.         0.07188413 0.\n",
      "  0.         0.         0.         0.         0.07188413 0.\n",
      "  0.         0.         0.07188413 0.09628328 0.         0.\n",
      "  0.         0.         0.         0.         0.         0.\n",
      "  0.         0.         0.07188413 0.         0.07188413 0.\n",
      "  0.         0.         0.         0.         0.         0.\n",
      "  0.         0.         0.         0.         0.         0.\n",
      "  0.         0.         0.         0.         0.         0.\n",
      "  0.         0.         0.         0.         0.         0.\n",
      "  0.         0.07188413 0.         0.         0.         0.\n",
      "  0.         0.07188413 0.         0.07188413 0.         0.\n",
      "  0.         0.         0.         0.         0.07188413 0.\n",
      "  0.         0.         0.         0.         0.         0.\n",
      "  0.         0.05799566 0.         0.         0.         0.\n",
      "  0.         0.         0.         0.         0.         0.\n",
      "  0.         0.         0.05799566 0.         0.         0.\n",
      "  0.         0.         0.21565239 0.         0.         0.\n",
      "  0.         0.         0.         0.05799566 0.         0.\n",
      "  0.         0.07188413 0.         0.         0.         0.\n",
      "  0.07188413 0.         0.07188413 0.         0.         0.\n",
      "  0.         0.         0.         0.         0.07188413 0.\n",
      "  0.         0.         0.         0.         0.         0.\n",
      "  0.         0.         0.         0.05799566 0.         0.\n",
      "  0.         0.07188413 0.07188413 0.         0.07188413 0.\n",
      "  0.         0.         0.         0.         0.         0.\n",
      "  0.         0.         0.         0.         0.         0.\n",
      "  0.         0.         0.         0.         0.         0.\n",
      "  0.         0.         0.         0.         0.         0.07188413\n",
      "  0.         0.05799566 0.07188413 0.         0.         0.05799566\n",
      "  0.         0.         0.         0.         0.         0.\n",
      "  0.         0.         0.07188413 0.         0.         0.\n",
      "  0.         0.         0.07188413 0.         0.         0.\n",
      "  0.         0.         0.07188413 0.         0.         0.05799566\n",
      "  0.         0.         0.         0.         0.         0.07188413\n",
      "  0.         0.         0.         0.         0.07188413 0.\n",
      "  0.         0.         0.         0.         0.         0.\n",
      "  0.07188413 0.         0.         0.         0.         0.\n",
      "  0.         0.         0.         0.07188413 0.         0.\n",
      "  0.07188413 0.         0.         0.         0.         0.\n",
      "  0.         0.         0.         0.         0.         0.\n",
      "  0.         0.         0.         0.07188413 0.         0.\n",
      "  0.         0.         0.         0.         0.07188413 0.07188413\n",
      "  0.         0.         0.         0.         0.         0.\n",
      "  0.         0.         0.07188413 0.         0.         0.\n",
      "  0.         0.         0.         0.         0.         0.\n",
      "  0.         0.         0.07188413 0.         0.         0.\n",
      "  0.07188413 0.         0.         0.         0.         0.\n",
      "  0.         0.07188413 0.         0.         0.         0.\n",
      "  0.05799566 0.         0.07188413 0.         0.         0.\n",
      "  0.         0.         0.         0.04814164 0.         0.07188413\n",
      "  0.         0.         0.         0.         0.         0.\n",
      "  0.         0.07188413 0.         0.07188413 0.         0.07188413\n",
      "  0.         0.         0.         0.         0.         0.\n",
      "  0.         0.         0.         0.         0.         0.\n",
      "  0.         0.         0.         0.         0.         0.\n",
      "  0.33699148 0.         0.13701269 0.         0.         0.11599133\n",
      "  0.         0.         0.07188413 0.         0.         0.\n",
      "  0.         0.         0.         0.         0.         0.\n",
      "  0.         0.         0.         0.         0.         0.\n",
      "  0.         0.07188413 0.         0.         0.         0.\n",
      "  0.         0.         0.         0.         0.07188413 0.\n",
      "  0.08099653 0.         0.         0.         0.         0.\n",
      "  0.         0.         0.         0.         0.         0.\n",
      "  0.         0.         0.         0.         0.05799566 0.\n",
      "  0.         0.         0.         0.         0.         0.\n",
      "  0.         0.         0.         0.         0.         0.\n",
      "  0.         0.         0.         0.         0.         0.\n",
      "  0.07188413 0.         0.         0.07188413 0.         0.07188413\n",
      "  0.         0.05799566 0.04814164 0.         0.05799566 0.05799566\n",
      "  0.         0.         0.         0.07188413 0.         0.\n",
      "  0.         0.         0.         0.         0.         0.\n",
      "  0.        ]]\n",
      "(5, 5)\n",
      "[1.         0.08938389 0.06990942 0.10894091 0.05803238]\n"
     ]
    }
   ],
   "source": [
    "print(tfidf_vectors[0].toarray())\n",
    "print(pairwise_similarities.shape)\n",
    "print(pairwise_similarities[0][:])"
   ]
  },
  {
   "cell_type": "markdown",
   "id": "1443d440",
   "metadata": {},
   "source": [
    "##### Cosine Similarity measure between combination of first 2 documents and all other documents"
   ]
  },
  {
   "cell_type": "code",
   "execution_count": 15,
   "id": "b41893d3",
   "metadata": {},
   "outputs": [
    {
     "name": "stdout",
     "output_type": "stream",
     "text": [
      "Similarity score for document 3: 0.4324980374458303\n",
      "Similarity score for document 4: 0.43341042549823233\n",
      "Similarity score for document 5: 0.4457415039153229\n",
      "Similarity score for document 6: 0.4265150188882339\n"
     ]
    }
   ],
   "source": [
    "#stopwords are not dropped here\n",
    "tfidf_vectorizer = TfidfVectorizer()\n",
    "tfidf_matrix = tfidf_vectorizer.fit_transform(corpus_lakshmi)\n",
    "similarity_scores = cosine_similarity(tfidf_matrix[0], tfidf_matrix[1:])\n",
    "\n",
    "# Print the similarity scores\n",
    "for i, score in enumerate(similarity_scores[0]):\n",
    "    print(f'Similarity score for document {i+3}: {score}')"
   ]
  },
  {
   "cell_type": "code",
   "execution_count": 16,
   "id": "9154d5e4",
   "metadata": {},
   "outputs": [
    {
     "data": {
      "text/plain": [
       "['If there is a phrase I would prefer to retire from online bios, personal or professional, it is, “I love travel.” Or some approximation of that sentiment. To clarify, I am not against travellers or those who proudly flaunt their passion for travel. On the contrary, editing a travel magazine has now made me oddly protective of travellers and their ilk. My submission is that “love to travel,” suggested so casually, just doesn’t feel adequate to the depth of emotion it sparks in true devotees.In February, the month of love as endowed by our great gifting industrial complex, we are wrestling with what “love for travel” means in tangible, life-affecting terms. The early throes of discovering travel might not be too dissimilar to the beginnings of a feverish affair. A fleeting scene, sound or feeling that at first arouses, then enchants and eventually, lures us into a hypnotic state, evoking woolly-eyed reveries about what could be.This world, however, is not the most conducive for long-term passion, the kind that demands unflinching sustenance in the midst of distractions from a thousand notifications. Passion has many rivals to contend with. And in flippantly announcing travel as our first love, we are not fully considering the influence our other paramours (work, relationships or money) exert on us.Travellers for life are compulsive. They have to be; there is no other existence. Climate change, marriages, deaths, protests and politics might have to take a backseat. I am reminded of a wanderlust-happy couple that discovered chinks in their relationship during a road trip through Russia. The woman, upset and distraught, offered a solution: cut the trip short to come back home and rekindle their chemistry. The man, however, wouldn’t give up Siberia, despite a chance at a do-over. Please don’t go getting any ideas about breaking hearts but for some travellers, marital bliss too has its limits.',\n",
       " 'The world’s greatest cities are brutal, unsentimental places, precisely the reason why so many of us fall so irrevocably under their spell. In its worst hour, this bond can curdle into bitter complaints of unrequited affection and everyday torment. “The subway doesn’t work, trash is overflowing and it’s too crowded; this is over.” Let me assure you that right now someone somewhere is uttering these words about your dream metropolis, New York, Rome, Rio De Janeiro. Like an unrepentant cad, the city laughs in their face, “Go on… live without me.” Wresting long-term connections comes with the occasional pang of nostalgic regret. Those who can’t escape their love of cities are destined to keep replaying that first flush of romance, that moment when a city went from a destination to home.A traveller’s sense of a city is always ephemeral. Not that this discredits his or her insights but to genuinely get under the skin of a modern metropolis, we look towards its people, leaning against its sidewalks, reading in café nooks or flirting in nightclubs. One of the best descriptions of city love I’ve read is in a wonderful book on London with a rather circuitous moniker: Londoners: The Days And Nights Of London Now—As Told By Those Who Love It, Hate It, Live It, Left It, And Long For It. In it writer Craig Taylor, who lived in the British capital for years, recalls relocating to Toronto and fielding that pesky question, “How do you feel about London?” He had a complicated answer, “It wasn’t a two-way relationship. It was no use thinking this place loses any sleep over me.”That’s the messy conundrum of a great city, as experienced by its besotted paramours, some of whom can’t kick the habit even if they tried. Travellers attempting to understand an urban jungle are better off trying to study its undercurrents. In September’s ode to five global cities, NGTI attempts to get a measure of their pulse. A writer dives into Belfast’s turbulent past to fully grasp its present-day vibrancy, another digs into the back alleys of Kuala Lumpur’s inimitable heritage food joints. We profile New York’s Hudson Yards, a gaudy spectacle that has divided New Yorkers, and chronicle the rise of Bauhaus in Tel Aviv. Finally we unpack Finland’s oldest city Turku.A city is fertile land for dramatic histories, new narratives and moving stories. Travellers, never immune to these irresistible tales, are bound to pass through its golden gates, over and over.',\n",
       " 'Part of the allure of a remote place is that the closer we get to it, the more we risk everything that made it precious. For years, Mount Everest inspired a sense of forbidden majesty, which was surmounted only by a few courageous adventurers. It helped that they were entertaining and we were content to immerse ourselves in the stories they wove from these monumental expeditions.In 2019, life-changing experiences are more easily found. This is probably why, when a photo of tourists lined up outside Everest’s summit, as though it were some check-in counter at an airport dispensing visas, was widely debated three months ago, the overwhelming emotion was deflated acceptance. No one in this day and age will be denied their Edmund Hillary moment.In February, the New York Times ran a panicked headline about another solitary paradise, which had long been removed from sustained tourist interference—the Galápagos. “Going to the Galápagos Is Easier and Cheaper Than Ever. That Might Not Be a Good Thing,” it warned. According to the article, “in 2017, 2,41,800 people visited the islands, up from 1,73,419 a decade earlier.”I am not highlighting these concerns as a spoilsport to anyone’s dreams. Travellers have earned their right to be wherever they choose to be. Even more so, seeking out the elusive is neither new nor groundbreaking; people were born of this earthly garden and returning to its comforting delights is the most primal of escapes. But the irony of how long we have this profusion of wilderness has not been lost, especially while we look towards the outdoors for constant nourishment and inspiration.Despite the arguments in favour or against these developments, NGTI’s August edition remains an ode to bona fide outdoor enthusiasts, a sincere testament to how faraway mountains, hidden islands, sweeping canyons continue to wield a magnetic pull over us. We have packed this issue with epic journeys: a 10-day road trip from Iceland’s deep grey volcanic outback, a tropical joyride in Fiji, a playful encounter with wildlife in New Zealand and a first-time skier’s tentative venture onto the slopes of Tahoe.While enjoying these wonderful reads, try to think of that sagacious advice, often doled out when restlessness sneaks its dreary head—“Why not go outside? Get some fresh air?” The outdoors are great for us, this much has been proven. The question now is, can we be great for the outdoors too?',\n",
       " 'Our year-end edition toasts ultra-indulgence while travelling, featuring itineraries that many will know to be out of their financial reach. In producing these narratives, I was struck by a contrast.Travel today is dominated by minimalists or downsizers, those who preach the gospel of “hard-knock wanderlust.” And they almost always reap universal admiration. They are characters to aspire to, examples of made-for-Instagram sayings such as, “All you need is a backpack” or “#MotorcycleDiaries.” Unable to join these gallivanting philosophers, others marvel at their brave rebellion—oh, to give up the predictability of overpriced tourist traps someday, they sigh.In this context, luxury travel evokes a Molotov cocktail of feelings. A billionaire on a sailboat hosting Jazz Age-style revelries in the French Riviera is inevitably setting himself up for mockery. The heiress, who flits off to shopping holidays in Milan and Dubai, might as well buy an extra pair of sunglasses for the shade directed her way. Extravagance passes muster if it panders to affordability. In the last few years, it has become intertwined with entitlement, a radioactive pejorative today.Upper-class travel doesn’t deserve this slight. As more astute aesthetes have reminded us in the past, refined tastes don’t have to be gauche. Living like royalty might have its privileges but it also spurs a temperament for beauty, grace and sensuality, which is why travellers will always fork out top penny for a night in Rajasthan’s many palace stays.Wealth facilitates the kind of understated exclusivity seen in the English countryside’s several castles or manors, once a venue for elegant ballroom dances. Luxury could also simply mean time well spent—or doing nothing—floating atop a sundeck in an unending stretch of the ocean.Professional travel writers are lucky to be granted access to these private paradises and, in December’s magazine, a handful of them have returned with colourful dispatches. One writer enjoys a happy recreational bubble in the Maldives, another is privy to up close views of big game in Botswana. There is also a roundup of New York’s elite food and drinking haunts, and coverage of the maiden cruise between Mumbai and Goa. All these retreats promise a hedonistic binge: grand feasts of fine wine and champagne, and views hidden from the typical trails.Some of them will test your purse-strings but think of Holly Golightly. She couldn’t lay claim to real Tiffany’s jewels but that never stopped her from getting her heart’s fill, standing outside the window.',\n",
       " 'I like a bit of pow-wow in any place. Let me rephrase before you think I am eternally hankering for a fight. What I mean is I would choose crooked streets over straight highways, sweaty mayhem over pristine elegance. This is why no matter where I go in this world, coming home to India, and especially Bombay, is never dull. I blame growing up in the city for my pugilistic predilections. One of the many descriptors that Mark Twain used in relation to Bombay was “pow-wow.” The place seemed to confound him: “Bewitching”, “Bewildering”, “Enchanting”, “Arabian Nights come again?”—the man was repulsed and riveted at the same time. It was a place befitting the number of exclamations he used.At 13, I was yet to be permitted the pleasures of travelling unchaperoned outside Bombay but within its confines, I had free rein to indulge my inner flâneur. I became the weekend loafer, slacking through parts of the city I really had no business being in. My itinerary hardly ever changed: Take the BEST bus to Chowpatty; after filling up on chaat, sample some more at the khau gully in Churchgate; sometimes, pretend to shop for music I could not afford at Kala Ghoda’s Rhythm House, where the desperately-trying-to-be-hip hung out in the 1990s. The final stretch was always my favourite: trudging along to my personal Shangri-La, Victoria Terminus.At VT, I parsed the sea of faces. I drummed up mind games to fill time like “Who’s new and who isn’t?” Spotting either was fairly simple. The former bunch bears dazed glances and open mouths. A person gyrating through the mob with minimum physical contact had been practising for the Local Train Olympics for a few years at least. When it was my turn to head back to the suburbs, I warmed up, adopted a stance that would make Usain Bolt proud and dashed off like the Flash into an incoming train. Like millions of others, Bombay taught me independent travel, in the crudest sense of the term. And it prepared me for the swirling madness that lies in the rest of India.In August, we are showcasing and extolling the allure of domestic journeys. Hampi, celebrated for its ruins, reveals something unexpected after every visit. In Hyderabad, we feature Sufi shrines, some of which abound in nooks you wouldn’t notice. Banaras’s cosy classical music cafés leave a lasting impression on a newcomer’s heart, and in West Bengal, a heritage renaissance seems to be afoot in Serampore. It is incumbent that travellers make forays far from where they live but, every so often, it doesn’t hurt to stumble upon surprises in our own backyard.']"
      ]
     },
     "execution_count": 16,
     "metadata": {},
     "output_type": "execute_result"
    }
   ],
   "source": [
    "corpus_lakshmi"
   ]
  },
  {
   "cell_type": "markdown",
   "id": "5185dc76",
   "metadata": {},
   "source": [
    "##### Checking similarity with Euclidean Distance "
   ]
  },
  {
   "cell_type": "code",
   "execution_count": 17,
   "id": "f2aecea0",
   "metadata": {},
   "outputs": [],
   "source": [
    "from sklearn.metrics.pairwise import euclidean_distances"
   ]
  },
  {
   "cell_type": "code",
   "execution_count": 24,
   "id": "7289c667",
   "metadata": {},
   "outputs": [],
   "source": [
    "pairwise_differences=euclidean_distances(tfidf_vectors)\n",
    "def most_similar(doc_id,similarity_matrix,matrix):\n",
    "    print (f'Document: {documents.iloc[doc_id][\"corpus_lakshmi\"]}')\n",
    "    print ('\\n')\n",
    "    print ('Similar Documents:')\n",
    "    if matrix=='Euclidean Distance':\n",
    "        similar=np.argsort(similarity_matrix[doc_id])\n",
    "    for ix in similar:\n",
    "        if ix==doc_id:\n",
    "            continue\n",
    "        print('\\n')\n",
    "        print (f'Document: {documents.iloc[ix][\"corpus_lakshmi\"]}')\n",
    "        print (f'{matrix} : {similarity_matrix[doc_id][ix]}')"
   ]
  },
  {
   "cell_type": "code",
   "execution_count": 25,
   "id": "6f77e2be",
   "metadata": {},
   "outputs": [
    {
     "name": "stdout",
     "output_type": "stream",
     "text": [
      "Document: If there is a phrase I would prefer to retire from online bios, personal or professional, it is, “I love travel.” Or some approximation of that sentiment. To clarify, I am not against travellers or those who proudly flaunt their passion for travel. On the contrary, editing a travel magazine has now made me oddly protective of travellers and their ilk. My submission is that “love to travel,” suggested so casually, just doesn’t feel adequate to the depth of emotion it sparks in true devotees.In February, the month of love as endowed by our great gifting industrial complex, we are wrestling with what “love for travel” means in tangible, life-affecting terms. The early throes of discovering travel might not be too dissimilar to the beginnings of a feverish affair. A fleeting scene, sound or feeling that at first arouses, then enchants and eventually, lures us into a hypnotic state, evoking woolly-eyed reveries about what could be.This world, however, is not the most conducive for long-term passion, the kind that demands unflinching sustenance in the midst of distractions from a thousand notifications. Passion has many rivals to contend with. And in flippantly announcing travel as our first love, we are not fully considering the influence our other paramours (work, relationships or money) exert on us.Travellers for life are compulsive. They have to be; there is no other existence. Climate change, marriages, deaths, protests and politics might have to take a backseat. I am reminded of a wanderlust-happy couple that discovered chinks in their relationship during a road trip through Russia. The woman, upset and distraught, offered a solution: cut the trip short to come back home and rekindle their chemistry. The man, however, wouldn’t give up Siberia, despite a chance at a do-over. Please don’t go getting any ideas about breaking hearts but for some travellers, marital bliss too has its limits.\n",
      "\n",
      "\n",
      "Similar Documents:\n",
      "\n",
      "\n",
      "Document: Our year-end edition toasts ultra-indulgence while travelling, featuring itineraries that many will know to be out of their financial reach. In producing these narratives, I was struck by a contrast.Travel today is dominated by minimalists or downsizers, those who preach the gospel of “hard-knock wanderlust.” And they almost always reap universal admiration. They are characters to aspire to, examples of made-for-Instagram sayings such as, “All you need is a backpack” or “#MotorcycleDiaries.” Unable to join these gallivanting philosophers, others marvel at their brave rebellion—oh, to give up the predictability of overpriced tourist traps someday, they sigh.In this context, luxury travel evokes a Molotov cocktail of feelings. A billionaire on a sailboat hosting Jazz Age-style revelries in the French Riviera is inevitably setting himself up for mockery. The heiress, who flits off to shopping holidays in Milan and Dubai, might as well buy an extra pair of sunglasses for the shade directed her way. Extravagance passes muster if it panders to affordability. In the last few years, it has become intertwined with entitlement, a radioactive pejorative today.Upper-class travel doesn’t deserve this slight. As more astute aesthetes have reminded us in the past, refined tastes don’t have to be gauche. Living like royalty might have its privileges but it also spurs a temperament for beauty, grace and sensuality, which is why travellers will always fork out top penny for a night in Rajasthan’s many palace stays.Wealth facilitates the kind of understated exclusivity seen in the English countryside’s several castles or manors, once a venue for elegant ballroom dances. Luxury could also simply mean time well spent—or doing nothing—floating atop a sundeck in an unending stretch of the ocean.Professional travel writers are lucky to be granted access to these private paradises and, in December’s magazine, a handful of them have returned with colourful dispatches. One writer enjoys a happy recreational bubble in the Maldives, another is privy to up close views of big game in Botswana. There is also a roundup of New York’s elite food and drinking haunts, and coverage of the maiden cruise between Mumbai and Goa. All these retreats promise a hedonistic binge: grand feasts of fine wine and champagne, and views hidden from the typical trails.Some of them will test your purse-strings but think of Holly Golightly. She couldn’t lay claim to real Tiffany’s jewels but that never stopped her from getting her heart’s fill, standing outside the window.\n",
      "Euclidean Distance : 1.3349599951672124\n",
      "\n",
      "\n",
      "Document: The world’s greatest cities are brutal, unsentimental places, precisely the reason why so many of us fall so irrevocably under their spell. In its worst hour, this bond can curdle into bitter complaints of unrequited affection and everyday torment. “The subway doesn’t work, trash is overflowing and it’s too crowded; this is over.” Let me assure you that right now someone somewhere is uttering these words about your dream metropolis, New York, Rome, Rio De Janeiro. Like an unrepentant cad, the city laughs in their face, “Go on… live without me.” Wresting long-term connections comes with the occasional pang of nostalgic regret. Those who can’t escape their love of cities are destined to keep replaying that first flush of romance, that moment when a city went from a destination to home.A traveller’s sense of a city is always ephemeral. Not that this discredits his or her insights but to genuinely get under the skin of a modern metropolis, we look towards its people, leaning against its sidewalks, reading in café nooks or flirting in nightclubs. One of the best descriptions of city love I’ve read is in a wonderful book on London with a rather circuitous moniker: Londoners: The Days And Nights Of London Now—As Told By Those Who Love It, Hate It, Live It, Left It, And Long For It. In it writer Craig Taylor, who lived in the British capital for years, recalls relocating to Toronto and fielding that pesky question, “How do you feel about London?” He had a complicated answer, “It wasn’t a two-way relationship. It was no use thinking this place loses any sleep over me.”That’s the messy conundrum of a great city, as experienced by its besotted paramours, some of whom can’t kick the habit even if they tried. Travellers attempting to understand an urban jungle are better off trying to study its undercurrents. In September’s ode to five global cities, NGTI attempts to get a measure of their pulse. A writer dives into Belfast’s turbulent past to fully grasp its present-day vibrancy, another digs into the back alleys of Kuala Lumpur’s inimitable heritage food joints. We profile New York’s Hudson Yards, a gaudy spectacle that has divided New Yorkers, and chronicle the rise of Bauhaus in Tel Aviv. Finally we unpack Finland’s oldest city Turku.A city is fertile land for dramatic histories, new narratives and moving stories. Travellers, never immune to these irresistible tales, are bound to pass through its golden gates, over and over.\n",
      "Euclidean Distance : 1.349530373586742\n",
      "\n",
      "\n",
      "Document: Part of the allure of a remote place is that the closer we get to it, the more we risk everything that made it precious. For years, Mount Everest inspired a sense of forbidden majesty, which was surmounted only by a few courageous adventurers. It helped that they were entertaining and we were content to immerse ourselves in the stories they wove from these monumental expeditions.In 2019, life-changing experiences are more easily found. This is probably why, when a photo of tourists lined up outside Everest’s summit, as though it were some check-in counter at an airport dispensing visas, was widely debated three months ago, the overwhelming emotion was deflated acceptance. No one in this day and age will be denied their Edmund Hillary moment.In February, the New York Times ran a panicked headline about another solitary paradise, which had long been removed from sustained tourist interference—the Galápagos. “Going to the Galápagos Is Easier and Cheaper Than Ever. That Might Not Be a Good Thing,” it warned. According to the article, “in 2017, 2,41,800 people visited the islands, up from 1,73,419 a decade earlier.”I am not highlighting these concerns as a spoilsport to anyone’s dreams. Travellers have earned their right to be wherever they choose to be. Even more so, seeking out the elusive is neither new nor groundbreaking; people were born of this earthly garden and returning to its comforting delights is the most primal of escapes. But the irony of how long we have this profusion of wilderness has not been lost, especially while we look towards the outdoors for constant nourishment and inspiration.Despite the arguments in favour or against these developments, NGTI’s August edition remains an ode to bona fide outdoor enthusiasts, a sincere testament to how faraway mountains, hidden islands, sweeping canyons continue to wield a magnetic pull over us. We have packed this issue with epic journeys: a 10-day road trip from Iceland’s deep grey volcanic outback, a tropical joyride in Fiji, a playful encounter with wildlife in New Zealand and a first-time skier’s tentative venture onto the slopes of Tahoe.While enjoying these wonderful reads, try to think of that sagacious advice, often doled out when restlessness sneaks its dreary head—“Why not go outside? Get some fresh air?” The outdoors are great for us, this much has been proven. The question now is, can we be great for the outdoors too?\n",
      "Euclidean Distance : 1.3638845863091884\n",
      "\n",
      "\n",
      "Document: I like a bit of pow-wow in any place. Let me rephrase before you think I am eternally hankering for a fight. What I mean is I would choose crooked streets over straight highways, sweaty mayhem over pristine elegance. This is why no matter where I go in this world, coming home to India, and especially Bombay, is never dull. I blame growing up in the city for my pugilistic predilections. One of the many descriptors that Mark Twain used in relation to Bombay was “pow-wow.” The place seemed to confound him: “Bewitching”, “Bewildering”, “Enchanting”, “Arabian Nights come again?”—the man was repulsed and riveted at the same time. It was a place befitting the number of exclamations he used.At 13, I was yet to be permitted the pleasures of travelling unchaperoned outside Bombay but within its confines, I had free rein to indulge my inner flâneur. I became the weekend loafer, slacking through parts of the city I really had no business being in. My itinerary hardly ever changed: Take the BEST bus to Chowpatty; after filling up on chaat, sample some more at the khau gully in Churchgate; sometimes, pretend to shop for music I could not afford at Kala Ghoda’s Rhythm House, where the desperately-trying-to-be-hip hung out in the 1990s. The final stretch was always my favourite: trudging along to my personal Shangri-La, Victoria Terminus.At VT, I parsed the sea of faces. I drummed up mind games to fill time like “Who’s new and who isn’t?” Spotting either was fairly simple. The former bunch bears dazed glances and open mouths. A person gyrating through the mob with minimum physical contact had been practising for the Local Train Olympics for a few years at least. When it was my turn to head back to the suburbs, I warmed up, adopted a stance that would make Usain Bolt proud and dashed off like the Flash into an incoming train. Like millions of others, Bombay taught me independent travel, in the crudest sense of the term. And it prepared me for the swirling madness that lies in the rest of India.In August, we are showcasing and extolling the allure of domestic journeys. Hampi, celebrated for its ruins, reveals something unexpected after every visit. In Hyderabad, we feature Sufi shrines, some of which abound in nooks you wouldn’t notice. Banaras’s cosy classical music cafés leave a lasting impression on a newcomer’s heart, and in West Bengal, a heritage renaissance seems to be afoot in Serampore. It is incumbent that travellers make forays far from where they live but, every so often, it doesn’t hurt to stumble upon surprises in our own backyard.\n",
      "Euclidean Distance : 1.3725652067299328\n"
     ]
    }
   ],
   "source": [
    "most_similar(0,pairwise_differences,'Euclidean Distance') "
   ]
  },
  {
   "cell_type": "code",
   "execution_count": 26,
   "id": "0e01a68c",
   "metadata": {},
   "outputs": [
    {
     "name": "stdout",
     "output_type": "stream",
     "text": [
      "Similarity score for document 2: 1.065365629776153\n",
      "Similarity score for document 3: 1.0645088769021764\n",
      "Similarity score for document 4: 1.052861335679753\n",
      "Similarity score for document 5: 1.0709668352584643\n"
     ]
    }
   ],
   "source": [
    "#stopwords are not dropped here (Euclidean Distances)\n",
    "tfidf_vectorizer = TfidfVectorizer()\n",
    "tfidf_matrix = tfidf_vectorizer.fit_transform(corpus_lakshmi)\n",
    "similarity_scores = euclidean_distances(tfidf_matrix[0], tfidf_matrix[1:])\n",
    "\n",
    "# Print the similarity scores\n",
    "for i, score in enumerate(similarity_scores[0]):\n",
    "    print(f'Similarity score for document {i+2}: {score}')"
   ]
  },
  {
   "cell_type": "markdown",
   "id": "29063ed1",
   "metadata": {},
   "source": [
    "##### Checking structure similairity in the corpus using Jaccard "
   ]
  },
  {
   "cell_type": "code",
   "execution_count": 27,
   "id": "1e3400d6",
   "metadata": {},
   "outputs": [],
   "source": [
    "from nltk.tokenize import word_tokenize\n",
    "from sklearn.metrics.pairwise import cosine_similarity"
   ]
  },
  {
   "cell_type": "code",
   "execution_count": 28,
   "id": "01a458f2",
   "metadata": {},
   "outputs": [],
   "source": [
    "tokenized_corpus = [set(word_tokenize(doc.lower())) for doc in documents.documents_cleaned]"
   ]
  },
  {
   "cell_type": "code",
   "execution_count": 29,
   "id": "a6851b8a",
   "metadata": {},
   "outputs": [
    {
     "name": "stdout",
     "output_type": "stream",
     "text": [
      "[{'compulsive', 'conducive', 'world', 'flaunt', 'many', 'however', 'man', 'passion', 'backseat', 'casually', 'cut', 'ideas', 'online', 'approximation', 'flippantly', 'magazine', 'sparks', 'hearts', 'discovering', 'beginnings', 'politics', 'depth', 'industrial', 'clarify', 'discovered', 'submission', 'oddly', 'rekindle', 'might', 'change', 'tangible', 'i', 'suggested', 'fleeting', 'travel', 'chemistry', 'fully', 'russia', 'bios', 'money', 'eyed', 'protective', 'proudly', 'sound', 'terms', 'work', 'marriages', 'phrase', 'evoking', 'be', 'ilk', 'hypnotic', 'protests', 'despite', 'come', 'deaths', 'reveries', 'chinks', 'enchants', 'in', 'feverish', 'editing', 'offered', 'february', 'state', 'relationships', 'long', 'throes', 'great', 'prefer', 'wrestling', 'could', 'devotees', 'exert', 'sentiment', 'distraught', 'home', 'arouses', 'retire', 'this', 'siberia', 'back', 'wouldn', 'adequate', 'unflinching', 'give', 'demands', 'midst', 'with', 'kind', 'do', 'take', 'feeling', 'us', 'doesn', 'happy', 'influence', 'limits', 'is', 'existence', 'thousand', 'early', 'over', 'emotion', 'couple', 'go', 'chance', 'affecting', 'contrary', 'complex', 'please', 'endowed', 'affair', 'feel', 't', 'climate', 'gifting', 'trip', 'breaking', 'term', 'wanderlust', 'bliss', 'woolly', 'would', 'rivals', 'contend', 'upset', 'reminded', 'means', 'professional', 'marital', 'personal', 'dissimilar', 'travellers', 'road', 'notifications', 'announcing', 'relationship', 'scene', 'sustenance', 'solution', 'love', 'considering', 'lures', 'don', 'paramours', 'woman', 'life', 'first', 'made', 'eventually', 'short', 'getting', 'month', 'distractions', 'true'}, {'world', 'traveller', 'escape', 'lumpur', 'use', 'attempting', 'stories', 'many', 'it', 'leaning', 'attempts', 'two', 'somewhere', 'right', 'uttering', 'now', 'study', 'joints', 'aviv', 'jungle', 'can', 'like', 'romance', 'unrequited', 'discredits', 'get', 'narratives', 'flush', 'days', 'pesky', 'unrepentant', 'the', 'without', 'profile', 'finland', 'moment', 'unpack', 'lived', 'immune', 'subway', 'moving', 'on', 'alleys', 'vibrancy', 'besotted', 'nostalgic', 'precisely', 'everyday', 'me', 'descriptions', 'pang', 'british', 'rome', 'insights', 'another', 'bitter', 'replaying', 'sidewalks', 'circuitous', 'undercurrents', 'that', 'inimitable', 'fertile', 'golden', 'land', 'new', 'i', 'years', 'grasp', 'laughs', 'fully', 'toronto', 'ode', 'live', 'torment', 'global', 'fall', 'work', 'messy', 'assure', 'better', 'irrevocably', 'bound', 'kuala', 'let', 'bauhaus', 'nooks', 'loses', 'reading', 'september', 'gates', 'nights', 'book', 'destination', 'five', 'modern', 'londoners', 'flirting', 'relocating', 'digs', 'divided', 'words', 'worst', 'people', 'day', 'genuinely', 'great', 'complaints', 'yorkers', 'dramatic', 'home', 'irresistible', 'back', 'left', 'capital', 'tales', 'london', 'food', 'turku', 'writer', 'read', 'way', 'sleep', 'overflowing', 'spell', 'histories', 'destined', 'experienced', 'us', 'doesn', 'urban', 'place', 'moniker', 'finally', 'de', 'always', 'sense', 'went', 'wonderful', 'chronicle', 'york', 've', 'fielding', 'over', 'wasn', 'belfast', 'never', 'cities', 'dream', 'regret', 'a', 'as', 'how', 'past', 'go', 'told', 'craig', 'caf', 'wresting', 'reason', 'someone', 'crowded', 'ephemeral', 'rather', 'complicated', 'affection', 'oldest', 'question', 'face', 't', 'feel', 'thinking', 'bond', 'towards', 'trying', 'hour', 'brutal', 'turbulent', 'connections', 'curdle', 'pass', 'term', 'best', 'answer', 'pulse', 'greatest', 'kick', 'conundrum', 'even', 'understand', 'gaudy', 's', 'travellers', 'heritage', 'tried', 'dives', 'nightclubs', 'hudson', 'relationship', 'trash', 'habit', 'spectacle', 'taylor', 'metropolis', 'yards', 'skin', 'tel', 'present', 'love', 'comes', 'unsentimental', 'occasional', 'paramours', 'rise', 'recalls', 'first', 'cad', 'one', 'city', 'places', 'rio', 'janeiro', 'look', 'measure', 'hate', 'keep', 'long', 'ngti'}, {'developments', 'pagos', 'favour', 'probably', 'continue', 'encounter', 'changing', 'article', 'stories', 'think', 'it', 'sustained', 'according', 'sagacious', 'bona', 'restlessness', 'air', 'right', 'tentative', 'panicked', 'get', 'courageous', 'why', 'though', 'lined', 'the', 'ever', 'moment', 'seeking', 'times', 'anyone', 'paradise', 'irony', 'sweeping', 'cheaper', 'edmund', 'much', 'wove', 'grey', 'wilderness', 'faraway', 'zealand', 'earlier', 'inspiration', 'another', 'tourist', 'try', 'ran', 'epic', 'might', 'new', 'inspired', 'i', 'years', 'constant', 'monumental', 'spoilsport', 'canyons', 'too', 'going', 'visited', 'photo', 'ode', 'wildlife', 'debated', 'dreary', 'check', 'deep', 'be', 'mount', 'expeditions', 'comforting', 'thing', 'despite', 'fiji', 'groundbreaking', 'earthly', 'airport', 'packed', 'acceptance', 'risk', 'in', 'allure', 'found', 'february', 'dreams', 'part', 'elusive', 'skier', 'people', 'overwhelming', 'day', 'highlighting', 'forbidden', 'returning', 'remains', 'hidden', 'sneaks', 'great', 'dispensing', 'interference', 'iceland', 'remote', 'gal', 'adventurers', 'neither', 'warned', 'precious', 'advice', 'doled', 'garden', 'us', 'time', 'ago', 'visas', 'place', 'choose', 'onto', 'majesty', 'tropical', 'is', 'reads', 'slopes', 'easily', 'while', 'sense', 'widely', 'wonderful', 'enthusiasts', 'nourishment', 'york', 'headline', 'delights', 'joyride', 'mountains', 'wherever', 'tahoe', 'fresh', 'entertaining', 'emotion', 'age', 'lost', 'denied', 'go', 'three', 'profusion', 'enjoying', 'everything', 'solitary', 'immerse', 'volcanic', 'islands', 'primal', 'question', 'hillary', 'everest', 'towards', 'concerns', 'issue', 'trip', 'outdoor', 'outside', 'proven', 'tourists', 'even', 's', 'months', 'arguments', 'outdoors', 'venture', 'travellers', 'august', 'road', 'decade', 'experiences', 'helped', 'journeys', 'summit', 'wield', 'deflated', 'easier', 'earned', 'testament', 'so', 'content', 'surmounted', 'especially', 'life', 'outback', 'sincere', 'first', 'removed', 'often', 'one', 'made', 'born', 'head', 'magnetic', 'fide', 'closer', 'good', 'counter', 'escapes', 'look', 'playful', 'edition', 'pull', 'long', 'ngti'}, {'rebellion', 'also', 'english', 'shade', 'producing', 'downsizers', 'sigh', 'traps', 'entitlement', 'backpack', 'many', 'intertwined', 'grand', 'think', 'sunglasses', 'spurs', 'binge', 'characters', 'reap', 'style', 'marvel', 'gauche', 'sayings', 'like', 'shopping', 'narratives', 'brave', 'almost', 'class', 'extra', 'refined', 'december', 'dances', 'feasts', 'fine', 'indulgence', 'sensuality', 'simply', 'enjoys', 'standing', 'botswana', 'temperament', 'venue', 'magazine', 'facilitates', 'overpriced', 'fork', 'aspire', 'deserve', 'countryside', 'promise', 'tiffany', 'penny', 'wealth', 'recreational', 'returned', 'end', 'all', 'french', 'granted', 'panders', 'goa', 'setting', 'mockery', 'tastes', 'ballroom', 'tourist', 'another', 'motorcyclediaries', 'retreats', 'luxury', 'instagram', 'cruise', 'living', 'top', 'knock', 'financial', 'might', 'palace', 'stays', 'game', 'roundup', 'new', 'years', 'travel', 'sundeck', 'affordability', 'claim', 'revelries', 'examples', 'aesthetes', 'ocean', 'hard', 'dominated', 'lucky', 'directed', 'exclusivity', 'hosting', 'milan', 'holly', 'gospel', 'dubai', 'stopped', 'gallivanting', 'in', 'slight', 'floating', 'billionaire', 'grace', 'typical', 'evokes', 'sailboat', 'purse', 'contrast', 'hidden', 'to', 'cocktail', 'golightly', 'pair', 'dispatches', 'bubble', 'reach', 'seen', 'castles', 'context', 'could', 'window', 'mean', 'nothing', 'flits', 'wine', 'predictability', 'food', 'give', 'unending', 'some', 'rajasthan', 'for', 'way', 'writer', 'kind', 'elite', 'views', 'fill', 'passes', 'well', 'jazz', 'maldives', 'others', 'doesn', 'us', 'feelings', 'time', 'happy', 'preach', 'haunts', 'toasts', 'universal', 'molotov', 'heiress', 'always', 'elegant', 'upper', 'several', 'inevitably', 'understated', 'couldn', 'jewels', 'york', 'atop', 'big', 'buy', 'know', 'never', 'heart', 'radioactive', 'as', 'age', 'year', 'past', 'manors', 'muster', 'and', 'philosophers', 'writers', 'pejorative', 'last', 'admiration', 'privy', 'oh', 't', 'royalty', 'beauty', 'or', 'colourful', 'drinking', 'mumbai', 'paradises', 'struck', 'hedonistic', 'outside', 'extravagance', 'wanderlust', 'handful', 'travelling', 'today', 'reminded', 's', 'professional', 'spent', 'trails', 'itineraries', 'travellers', 'champagne', 'maiden', 'stretch', 'featuring', 'need', 'unable', 'night', 'someday', 'holidays', 'access', 'close', 'lay', 'join', 'don', 'privileges', 'riviera', 'strings', 'real', 'ultra', 'one', 'getting', 'test', 'coverage', 'astute', 'private', 'edition', 'become', 'minimalists', 'made'}, {'house', 'bolt', 'world', 'renaissance', 'pristine', 'free', 'matter', 'trudging', 'vt', 'think', 'many', 'ghoda', 'open', 'man', 'shop', 'mob', 'pretend', 'afford', 'hyderabad', 'upon', 'permitted', 'local', 'like', 'along', 'indulge', 'befitting', 'reveals', 'the', 'ever', 'simple', 'newcomer', 'slacking', 'itinerary', 'serampore', 'stumble', 'churchgate', 'showcasing', 'rephrase', 'highways', 'unchaperoned', 'hip', 'loafer', 'far', 'predilections', 'contact', 'straight', 'hung', 'swirling', 'mind', 'confound', 'gyrating', 'pleasures', 'west', 'bunch', 'hankering', 'twain', 'number', 'growing', 'riveted', 'new', 'weekend', 'spotting', 'seemed', 'him', 'mouths', 'years', 'person', 'ruins', 'travel', 'bus', 'business', 'parts', 'pugilistic', 'la', 'changed', 'lasting', 'rhythm', 'live', 'again', 'descriptors', 'coming', 'streets', 'at', 'eternally', 'final', 'be', 'favourite', 'let', 'confines', 'mayhem', 'india', 'former', 'doesn', 'olympics', 'sufi', 'wow', 'come', 'seems', 'exclamations', 'warmed', 'fight', 'sweaty', 'dull', 'nooks', 'inner', 'terminus', 'taught', 'prepared', 'in', 'nights', 'khau', 'allure', 'really', 'adopted', 'usain', 'classical', 'flash', 'used', 'enchanting', 'blame', 'to', 'extolling', 'surprises', 'could', 'home', 'mean', 'visit', 'back', 'wouldn', 'every', 'sample', 'stance', 'take', 'fill', 'practising', 'physical', 'became', 'millions', 'bombay', 'glances', 'isn', 'make', 'bewitching', 'time', 'proud', 'pow', 'suburbs', 'others', 'unexpected', 'place', 'choose', 'cosy', 'feature', 'within', 'always', 'dazed', 'independent', 'lies', 'chaat', 'fairly', 'games', 'sense', 'desperately', 'abound', 'hurt', 'impression', 'celebrated', 'arabian', 'sometimes', 'bengal', 'but', 'never', 'heart', 'go', 'caf', 'crudest', 'bewildering', 'neur', 'victoria', 'leave', 'relation', 't', 'incumbent', 'domestic', 'trying', 'either', 'filling', 'something', 'rein', 'elegance', 'gully', 'music', 'train', 'chowpatty', 'outside', 'parsed', 'sea', 'best', 'term', 'hampi', 'would', 'travelling', 'turn', 'madness', 's', 'fl', 'faces', 'personal', 'who', 'rest', 'august', 'least', 'up', 'heritage', 'repulsed', 'travellers', 'journeys', 'minimum', 'stretch', 'banaras', 'dashed', 'yet', 'incoming', 'shrines', 'notice', 'crooked', 'especially', 'often', 'hardly', 'mark', 'one', 'head', 'forays', 'city', 'bears', 'afoot', 'backyard', 'shangri', 'drummed', 'bit', 'kala'}]\n"
     ]
    }
   ],
   "source": [
    "print(tokenized_corpus)"
   ]
  },
  {
   "cell_type": "code",
   "execution_count": 32,
   "id": "12580945",
   "metadata": {},
   "outputs": [],
   "source": [
    "from sklearn.feature_extraction.text import CountVectorizer"
   ]
  },
  {
   "cell_type": "code",
   "execution_count": 34,
   "id": "16ea2e1f",
   "metadata": {},
   "outputs": [],
   "source": [
    "vectorizer = CountVectorizer(binary=True)\n",
    "vectors = vectorizer.fit_transform(documents.documents_cleaned)"
   ]
  },
  {
   "cell_type": "code",
   "execution_count": 38,
   "id": "fd6b1ef4",
   "metadata": {},
   "outputs": [],
   "source": [
    "from sklearn.metrics import pairwise_distances\n",
    "sets = [set(doc.split()) for doc in documents.documents_cleaned]"
   ]
  },
  {
   "cell_type": "code",
   "execution_count": 44,
   "id": "8ada2657",
   "metadata": {},
   "outputs": [],
   "source": [
    "from sklearn.feature_extraction.text import CountVectorizer\n",
    "from sklearn.metrics import jaccard_score\n",
    "# Vectorize the corpus using CountVectorizer\n",
    "vectorizer = CountVectorizer(binary=True)\n",
    "vectors = vectorizer.fit_transform(corpus_lakshmi)"
   ]
  },
  {
   "cell_type": "code",
   "execution_count": 48,
   "id": "5f568e97",
   "metadata": {},
   "outputs": [
    {
     "name": "stdout",
     "output_type": "stream",
     "text": [
      "Jaccard similarity matrix:\n",
      "[0, 0.14043583535108958, 0.12408759124087591, 0.11187214611872145, 0.11697247706422019]\n",
      "[0.14043583535108958, 0, 0.13948497854077252, 0.100990099009901, 0.12096774193548387]\n",
      "[0.12408759124087591, 0.13948497854077252, 0, 0.10505050505050505, 0.10953346855983773]\n",
      "[0.11187214611872145, 0.100990099009901, 0.10505050505050505, 0, 0.1]\n",
      "[0.11697247706422019, 0.12096774193548387, 0.10953346855983773, 0.1, 0]\n"
     ]
    }
   ],
   "source": [
    "import seaborn as sns\n",
    "import matplotlib.pyplot as plt\n",
    "jaccard_sim = []\n",
    "for i in range(len(corpus_lakshmi)):\n",
    "    similarities = []\n",
    "    for j in range(len(corpus_lakshmi)):\n",
    "        if i != j:\n",
    "            similarities.append(jaccard_score(vectors[i].toarray()[0], vectors[j].toarray()[0]))\n",
    "        else:\n",
    "            similarities.append(0)\n",
    "    jaccard_sim.append(similarities)\n",
    "\n",
    "# Print the Jaccard similarity matrix\n",
    "print(\"Jaccard similarity matrix:\")\n",
    "for i in range(len(corpus_lakshmi)):\n",
    "    print(jaccard_sim[i])"
   ]
  },
  {
   "cell_type": "code",
   "execution_count": 54,
   "id": "fe22c775",
   "metadata": {},
   "outputs": [
    {
     "data": {
      "image/png": "[encoded data removed]",
      "text/plain": [
       "<Figure size 432x288 with 2 Axes>"
      ]
     },
     "metadata": {},
     "output_type": "display_data"
    }
   ],
   "source": [
    "matrix = jaccard_sim\n",
    "sns.set(font_scale=1.4)\n",
    "sns.heatmap(matrix, cmap='coolwarm', annot=True, annot_kws={\"size\": 13}, linewidths=.5)\n",
    "\n",
    "# show the plot\n",
    "plt.show()"
   ]
  },
  {
   "cell_type": "markdown",
   "id": "a184dca5",
   "metadata": {},
   "source": [
    "### Conclusion\n",
    "\n",
    "###### It can be concluded that the author's writing style is quite distinctive and original. The scores suggested that the writing has no high similarity across documents stored in corpus. After the computation of Jaccard Similarity matrix was done, to understand the similarity in structure of text, a plot was made for better visualization. We can notice how decrease as we move away from the diagonal, which indicates that the documents are less similar to each other as we move further away from the diagonal. \n"
   ]
  },
  {
   "cell_type": "code",
   "execution_count": null,
   "id": "5e678779",
   "metadata": {},
   "outputs": [],
   "source": []
  }
 ],
 "metadata": {
  "kernelspec": {
   "display_name": "Python 3 (ipykernel)",
   "language": "python",
   "name": "python3"
  },
  "language_info": {
   "codemirror_mode": {
    "name": "ipython",
    "version": 3
   },
   "file_extension": ".py",
   "mimetype": "text/x-python",
   "name": "python",
   "nbconvert_exporter": "python",
   "pygments_lexer": "ipython3",
   "version": "3.9.7"
  }
 },
 "nbformat": 4,
 "nbformat_minor": 5
}
